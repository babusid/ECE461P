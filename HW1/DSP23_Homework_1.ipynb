{
  "cells": [
    {
      "attachments": {},
      "cell_type": "markdown",
      "metadata": {
        "id": "QDMxPNTM-8Ew"
      },
      "source": [
        "## EE 461P: Data Science Principles  \n",
        "### Assignment 1  \n",
        "### Total points: 75\n",
        "### Due: Tuesday, January 31, 2023, submitted via Canvas by 11:59 pm  \n",
        "\n",
        "Your homework should be written in a **Jupyter notebook**. You may work in groups of two if you wish. Only one student per team needs to submit the assignment on Canvas.  But be sure to include name and UT eID for both students.  Homework groups will be created and managed through Canvas, so please do not arbitrarily change your homework group. If you do change, let the TAs know.\n",
        "\n",
        "Also, please make sure your code runs and the graphics (and anything else) are displayed in your notebook before submitting. (%matplotlib inline)\n",
        "\n",
        "### Name(s) and EID(s):\n",
        "1. Sidharth Babu, SNB2593\n",
        "2. Laith Altarabishi, LA26744"
      ]
    },
    {
      "cell_type": "markdown",
      "metadata": {
        "id": "2l4ZpGDS0bVI"
      },
      "source": [
        "# Question 1 (5 points)\n",
        "\n",
        "Read [this](https://www.covid-datascience.com/post/israeli-data-how-can-efficacy-vs-severe-disease-be-strong-when-60-of-hospitalized-are-vaccinated) article that talks about the possibility of vaccines being uneffective in Israel since nearly 60% of severe COVID-19 hospitalization in Israel were vaccinated people. Use Simpson's Paradox to briefly explain if this claim holds true.\n"
      ]
    },
    {
      "attachments": {},
      "cell_type": "markdown",
      "metadata": {
        "id": "qaijrS9q8_go"
      },
      "source": [
        "While it's true that nearly 60% of hospitilizations in Israel were vaccinated people, this observation is largely misleading due to the fact that there are a large number of confounding factors and dependent conditions that underly this data. Namely it doesn't address the fact the elderly(>50) are orders of magnitude more susceptible to having severe cases of COVID-19 than those who are younger(<50). This statisitic doesn't stratify the population of Israel by age, or look at the efficacy of the vaccine from a dataset where we consider the severe cases of the COVID-19 in a normalized count. \n",
        "\n",
        "In this article we see that both normalizing our severe cases, and stratifying our data by age we see significantly higher efficacy rates amongst both the elderly(85.2%) and the youth(91.8%) despite the fact that when we combine both groups together, we get significanly lower efficacy(67.5%). The reason for this is because the elderly were not only largely more vaccinated as a stratified age group(90.4% vs 73%) - but they were also more at risk of having a severe case of COVID in comparison to the youth. This creates a confounding situation that can effect the larger pool of data when we look at the population of Isreal as a whole, and gives us paradoxical results that may not characterize what's actually happening in our data. \n",
        "\n",
        "Thus, when clearly eliminating the confounding effect of age and looking at a stratified and normalized dataset, we see that the vaccine actually has a pretty high efficacy rate across all age groups and ranges - making a solid case for the vaccine actually being an effective countermeasure to COVID-19. "
      ]
    },
    {
      "cell_type": "markdown",
      "metadata": {
        "id": "NNBbUfy9Fxqg"
      },
      "source": [
        "# Question 2 (10 points)\n",
        "\n",
        "100 students in the previous offering of this class were asked if they wanted to form their own groups for the course project or have the instructor randomize the groups. They reported their preferences by entering Yes or No in the survey. We use 0 to represent preferring their own groups and 1 to represent randomized groups. A random sample of 20 students yielded the following preferences:\n",
        "\n",
        "$$1 0 1 1 0 1 0 1 1 1 0 1 1 0 1 0 0 1 1 1$$\n",
        "\n",
        "These choices are assumed to arise by independent and identically distributed (i.i.d.) sampling from the following distribution and if the unknown parameter $q$ can be estimated, then we can provide more insights about the students' preference regrading the project groups.\n",
        "\n",
        "$$\n",
        "\\begin{equation}\n",
        "\\nonumber P(x) = \\left\\{\n",
        "\\begin{array}{l l}\n",
        "    q& \\quad \\text{for  } x=0\\\\\n",
        "1-q & \\quad \\text{for } x=1\n",
        "\\end{array} \\right.\n",
        "\\end{equation}\n",
        "$$\n",
        "\n",
        "Based on the definitions given above, identify the likelihood function and derive the **maximum likelihood estimator** of $q$. Using the given sample, find a maximum likelihood estimate of $q$ as well."
      ]
    },
    {
      "attachments": {},
      "cell_type": "markdown",
      "metadata": {
        "id": "LJ_Kz4VN9Dus"
      },
      "source": [
        "# Answer 2\n",
        "L(θ) = ∏ f(xi|θ) = ∏ q^1-xi * (1-q)^xi "
      ]
    },
    {
      "cell_type": "markdown",
      "metadata": {
        "id": "yHBVQzeVPs02"
      },
      "source": [
        "# Question 3 (5+5 points)\n",
        "\n",
        "a) Briefly explain what you understand by an estimator of a numeric quantity being unbiased? Show that the MLE for the variance of a Gaussian is biased.\n",
        "\n",
        "b) Suppose the mean of the Gaussian distribution, $\\mu$. So given a data set assumed to be obtained by sampling i.i.d from this Gaussian, your job is to obtain the MLE for the unknown variance. Derive the equation for this estimate and show that it is unbiased."
      ]
    },
    {
      "cell_type": "markdown",
      "metadata": {
        "id": "UovxZfi8Pt7N"
      },
      "source": [
        "# Answer 3\n"
      ]
    },
    {
      "cell_type": "markdown",
      "metadata": {
        "id": "pqV_7myxCupC"
      },
      "source": [
        "# Question 4 (5+5 points)\n",
        "\n",
        "a) What is multicollinearity in the context of linear regression and why is it problematic?\n",
        "\n",
        "b) How do you diagnose and fix multicollinearity?\n"
      ]
    },
    {
      "attachments": {},
      "cell_type": "markdown",
      "metadata": {
        "id": "U2a5wCF9C7Vw"
      },
      "source": [
        "a) Multicollinearity refers to the situation where two or more independent variables that contribute to our linear regression model are correlated with one another - meaning that we can effectively predict one independent variable as a function of other independent variables. This is problematic as this will create instability in our model since we know that in our linear equations for regression, we try to compute beta values that represent the isolated rate of change in our dependent variable with respect to each independent variable - fixing everything else. However, if our independent variables are correlated with one another - this creates complications since our model won't be able to accurately estimate what beta values accurately map our independent variables to our dependent variable since we won't be able to isolate each independent variable without possibly effecting other variables in a significant way.\n",
        "\n",
        "b) We could diagnose multicollinearity by computing the correlation matrix between all of our independent variables, and evaluating which variables have the most correlation and whether or not the correlation value is too high. We could also evaluate the standard error of our data, and see if the error is very high with some of the independent variables. To fix this problem, there a few solutions that we could explore. We could use PCA to reduce the dimensionality of our data, or remove variables that are highly correlated with one another from the dataset. "
      ]
    },
    {
      "cell_type": "markdown",
      "metadata": {
        "id": "Y8M2y37dATTO"
      },
      "source": [
        "# Question 5 : Regression (40 points)\n"
      ]
    },
    {
      "cell_type": "markdown",
      "metadata": {
        "id": "JIeme-FoAWxH"
      },
      "source": [
        "### 5.1 Generate Data (5 points)\n",
        "Generate a synthetic regression dataset using make_regression from [sklearn.datasets](https://scikit-learn.org/stable/modules/generated/sklearn.datasets.make_regression.html) with the following characteristics :\n",
        "n_samples = 20000, n_features = 20, n_informative = 15, n_targets = 1, coef = True and random_state = 42, bias = True, noise = 0.1.\n",
        "\n",
        "**Reading Assignment** : Read about how this data is generated and the affect of the above mentioned parameters on the data. "
      ]
    },
    {
      "cell_type": "code",
      "execution_count": 1,
      "metadata": {
        "id": "TYOT8DJcAX7q"
      },
      "outputs": [],
      "source": [
        "from sklearn.datasets import make_regression\n",
        "\n",
        "data, labels, coef = make_regression(n_samples=20000, n_features=20,n_informative = 15, n_targets = 1, coef = True, random_state = 42, bias = True, noise = 0.1)"
      ]
    },
    {
      "cell_type": "markdown",
      "metadata": {
        "id": "HI4XeUtjAYgc"
      },
      "source": [
        "### 5.2 Perform Regression (10 points)\n",
        "a) Divide the above obtained data into a train/test split by using 20% of the data for testing. Then train a linear regression model using Ordinary Least Squares method from [sklearn](https://scikit-learn.org/stable/modules/linear_model.html). \n",
        "\n",
        "b) Evaluate the trained model using Mean Squared Error on both train and test datasets and report the performance. \n",
        "\n",
        "c) Also, print the coefficients and bias obtained after the fit and compare them with the coefficients and bias that were used for generating the data in 5.1. "
      ]
    },
    {
      "cell_type": "code",
      "execution_count": 2,
      "metadata": {
        "id": "0joZZhB_AbR3"
      },
      "outputs": [
        {
          "data": {
            "text/plain": [
              "LinearRegression()"
            ]
          },
          "execution_count": 2,
          "metadata": {},
          "output_type": "execute_result"
        }
      ],
      "source": [
        "from sklearn.linear_model import LinearRegression\n",
        "from sklearn.model_selection import train_test_split\n",
        "\n",
        "# split data into 20% split\n",
        "x_train, x_test, y_train, y_test = train_test_split(data, labels, test_size=.2, random_state=42)\n",
        "# train OLS model on training data\n",
        "model = LinearRegression()\n",
        "model.fit(x_train, y_train)"
      ]
    },
    {
      "cell_type": "code",
      "execution_count": 6,
      "metadata": {},
      "outputs": [
        {
          "name": "stdout",
          "output_type": "stream",
          "text": [
            "MSE on Training Set: 0.009974584995040442 \n",
            "MSE on Testing Set: 0.010471400998120259\n"
          ]
        }
      ],
      "source": [
        "# evaluate performances on training and test set of model\n",
        "from sklearn.metrics import mean_squared_error\n",
        "mse = []\n",
        "\n",
        "# MSE on training data\n",
        "train_preds = model.predict(x_train)\n",
        "mse.append(mean_squared_error(y_train, train_preds))\n",
        "\n",
        "# MSE on testing data\n",
        "test_preds = model.predict(x_test)\n",
        "mse.append(mean_squared_error(y_test, test_preds))\n",
        "\n",
        "print(f\"MSE on Training Set: {mse[0]} \\nMSE on Testing Set: {mse[1]}\")"
      ]
    },
    {
      "cell_type": "code",
      "execution_count": 29,
      "metadata": {},
      "outputs": [
        {
          "name": "stdout",
          "output_type": "stream",
          "text": [
            "Model coef: 49.75681025613976 Dataset coef: 49.75788257941096\n",
            "Model coef: 90.83496080443435 Dataset coef: 90.83665798480541\n",
            "Model coef: 25.028837978239192 Dataset coef: 25.028419436070127\n",
            "Model coef: -5.340981157886393e-05 Dataset coef: 0.0\n",
            "Model coef: 4.603684873378317 Dataset coef: 4.60361603267746\n",
            "Model coef: 30.854879296962636 Dataset coef: 30.853507037368356\n",
            "Model coef: 0.0009585740939197507 Dataset coef: 0.0\n",
            "Model coef: 93.84745887336383 Dataset coef: 93.8463549949489\n",
            "Model coef: 56.30270537919605 Dataset coef: 56.302417471393085\n",
            "Model coef: 65.63068443553912 Dataset coef: 65.6311586956528\n",
            "Model coef: 17.004979444956213 Dataset coef: 17.00530636040365\n",
            "Model coef: 0.0013727246315307085 Dataset coef: 0.0\n",
            "Model coef: 31.35989259748749 Dataset coef: 31.359600566828817\n",
            "Model coef: 0.0007870774001865755 Dataset coef: 0.0\n",
            "Model coef: 60.76466431057311 Dataset coef: 60.76515030383425\n",
            "Model coef: 54.96354508677353 Dataset coef: 54.962444325272465\n",
            "Model coef: 28.809792956022193 Dataset coef: 28.808875528520204\n",
            "Model coef: 0.00015093387688480675 Dataset coef: 0.0\n",
            "Model coef: 87.808909953124 Dataset coef: 87.80872023171106\n",
            "Model coef: 96.0072743564679 Dataset coef: 96.00842931708675\n",
            "Model bias: 0.9995602406110264 Dataset bias: 1\n"
          ]
        }
      ],
      "source": [
        "#compare coeffs between fitted model and generated dataset\n",
        "for x, y in zip(model.coef_, coef):\n",
        "    print(f\"Model coef: {x} Dataset coef: {y}\")\n",
        "bias1, bias2 = model.intercept_, 1 # note that we only define bias in dataset as True\n",
        "print(f\"Model bias: {bias1} Dataset bias: {bias2}\")"
      ]
    },
    {
      "cell_type": "markdown",
      "metadata": {
        "id": "HgzF7qSSAbf5"
      },
      "source": [
        "### 5.3 Residuals (5 points)\n",
        "a) Compute the residuals (difference between predicted and original values)  of the trained model on the test data. Compute and show the mean and variance of the residuals. \n",
        "\n",
        "b) Scatter plot the residuals along with true predictions and observe how are the residuals distributed.\n",
        "\n",
        "(BONUS) How do the above observations relate to one of the asumptions behind the MLR model? (5 points)"
      ]
    },
    {
      "cell_type": "code",
      "execution_count": 9,
      "metadata": {
        "id": "xujyYrCEAd1x"
      },
      "outputs": [
        {
          "name": "stdout",
          "output_type": "stream",
          "text": [
            "Mean: 0.0015220159112302309 \n",
            "Variance: 0.01046908446568622\n"
          ]
        }
      ],
      "source": [
        "import numpy as np\n",
        "\n",
        "# compute mean and variance of residuals\n",
        "residuals = test_preds - y_test\n",
        "mu, var = np.mean(residuals), np.var(residuals)\n",
        "print(f\"Mean: {mu} \\nVariance: {var}\")"
      ]
    },
    {
      "cell_type": "code",
      "execution_count": 10,
      "metadata": {},
      "outputs": [
        {
          "data": {
            "image/png": "[encoded data removed]",
            "text/plain": [
              "<Figure size 432x288 with 1 Axes>"
            ]
          },
          "metadata": {
            "needs_background": "light"
          },
          "output_type": "display_data"
        }
      ],
      "source": [
        "import matplotlib.pyplot as plt\n",
        "\n",
        "plt.scatter(y_test, residuals)\n",
        "plt.xlabel = \"Target Values\"\n",
        "plt.ylabel = \"Residuals\"\n",
        "plt.show()"
      ]
    },
    {
      "cell_type": "markdown",
      "metadata": {},
      "source": [
        "BONUS: We know our residuals should have a variance that reflects the distribution of a Gaussian - and from our plot above we can see that the majority of our data is concentrated around 0.2 to -0.2 residual mark as well as there being significantly fewer points beyond that(on the tail-end of the distribution). This seems to satisfy our assumption that our MLR model's error term (residuals) are normally distributed."
      ]
    },
    {
      "cell_type": "markdown",
      "metadata": {
        "id": "qJPQpojJAeAa"
      },
      "source": [
        "### 5.4 Lasso and Ridge Regression (10 points)\n",
        "\n",
        "a) Run Lasso and Ridge regression on the data generated in 5.1 by varying the parameter alpha from 10^-3 to 10^3. For each value of the alpha, store the train error (MSE), test error (MSE), and norm of the coefficient vector using [numpy.linalg.norm](https://numpy.org/doc/stable/reference/generated/numpy.linalg.norm.html).\n",
        "\n",
        "b) Plot the train error, test error and the norm of the coefficient vector with increasing alpha and note what you observe. Use one plot for train error and test error and another for the norm.\n"
      ]
    },
    {
      "cell_type": "code",
      "execution_count": 44,
      "metadata": {
        "id": "LDT3C9W7j4QW"
      },
      "outputs": [],
      "source": [
        "from sklearn.linear_model import Lasso, Ridge\n",
        "\n",
        "# generate set of alpha values\n",
        "alphas = np.linspace(10**-3, 10**3, 1000)\n",
        "\n",
        "train_MSE = []\n",
        "test_MSE = []\n",
        "lasso_norms = []\n",
        "ridge_norms = []\n",
        "\n",
        "for a in alphas:\n",
        "    model_lasso = Lasso(alpha=a)\n",
        "    model_ridge = Ridge(alpha=a)\n",
        "\n",
        "    #fit models and compute MSE from predictions\n",
        "    model_lasso.fit(x_train, y_train)\n",
        "    model_ridge.fit(x_train, y_train)\n",
        "\n",
        "    #get norm of coef vector\n",
        "    lasso_norms.append(np.linalg.norm(model_lasso.coef_))\n",
        "    ridge_norms.append(np.linalg.norm(model_ridge.coef_))\n",
        "\n",
        "    # get training MSE first\n",
        "    lasso_preds = model_lasso.predict(x_train)\n",
        "    ridge_preds = model_ridge.predict(x_train)\n",
        "\n",
        "    train_lasso_mse = mean_squared_error(y_train, lasso_preds)\n",
        "    train_ridge_mse = mean_squared_error(y_train, ridge_preds)\n",
        "\n",
        "    # get test MSE\n",
        "    lasso_preds = model_lasso.predict(x_test)\n",
        "    ridge_preds = model_ridge.predict(x_test)\n",
        "\n",
        "    test_lasso_mse = mean_squared_error(y_test, lasso_preds)\n",
        "    test_ridge_mse = mean_squared_error(y_test, ridge_preds)\n",
        "\n",
        "    #return MSEs\n",
        "    train_MSE.append([train_lasso_mse, train_ridge_mse])\n",
        "    test_MSE.append([test_lasso_mse, test_ridge_mse])"
      ]
    },
    {
      "cell_type": "code",
      "execution_count": 45,
      "metadata": {},
      "outputs": [],
      "source": [
        "# put in np array format for convience\n",
        "train_MSE = np.array(train_MSE)\n",
        "test_MSE = np.array(test_MSE)"
      ]
    },
    {
      "cell_type": "code",
      "execution_count": 46,
      "metadata": {},
      "outputs": [
        {
          "data": {
            "image/png": "[encoded data removed]",
            "text/plain": [
              "<Figure size 432x288 with 1 Axes>"
            ]
          },
          "metadata": {
            "needs_background": "light"
          },
          "output_type": "display_data"
        },
        {
          "data": {
            "image/png": "[encoded data removed]",
            "text/plain": [
              "<Figure size 432x288 with 1 Axes>"
            ]
          },
          "metadata": {
            "needs_background": "light"
          },
          "output_type": "display_data"
        }
      ],
      "source": [
        "# plot both training and testing MSE for lasso and ridge\n",
        "plt.xlim(min(alphas), max(alphas))\n",
        "# 0th index of train_MSE is lasso and 1st is ridge\n",
        "plt.plot(alphas, np.array([train_MSE[:,0], test_MSE[:,0], train_MSE[:,1], test_MSE[:,1]]).T)\n",
        "plt.xlabel = \"Alphas\"\n",
        "plt.ylabel = \"Losses\"\n",
        "plt.title = \"Lasso and Ridge Train/Test Loss\"\n",
        "plt.show()\n",
        "plt.figure()\n",
        "\n",
        "# plot norms\n",
        "plt.plot(alphas, np.array([lasso_norms, ridge_norms]).T)\n",
        "plt.xlabel = \"Alphas\"\n",
        "plt.ylabel = \"Norms\"\n",
        "plt.title = \"Lasso and Ridge Norms\"\n",
        "plt.show()"
      ]
    },
    {
      "cell_type": "markdown",
      "metadata": {},
      "source": [
        "When looking at our train/test MSE plot - we notice how quickly our lasso losses spike in value as our alphas value increases. We also see a spike in loss for our ridge losses, but it's noticeably less. This is likely due to the fact that the lasso model is a weaker regularizer of our data than the ridge model.\n",
        "\n",
        "In contrast, we notice that our norm is decreasing for both of our models - with our norm decreasing significantly faster with our lasso model."
      ]
    },
    {
      "cell_type": "markdown",
      "metadata": {
        "id": "iWbeD15fRXdl"
      },
      "source": [
        "### 5.5 Real-world Regression Problem (10 points)\n",
        "\n",
        "The dataset in the file ecommerce_dataset.csv is for an ecommerce business trying to predict the annual amount spent by each customer. Use Lasso and Ridge regression on the set of independent variables {Average Session Length, Time on App, Time on Website, Length of Membership}  to predict the dependent variable **Yearly Amount Spent**. Vary the value of alpha in the range 10^-6 to 10^5 and do 5-fold cross-validation using sklearn's KFold to find the value of alpha that gives best performance as measured using MSE."
      ]
    },
    {
      "cell_type": "code",
      "execution_count": 47,
      "metadata": {
        "id": "snk9yvieSX5d"
      },
      "outputs": [
        {
          "data": {
            "text/html": [
              "<div>\n",
              "<style scoped>\n",
              "    .dataframe tbody tr th:only-of-type {\n",
              "        vertical-align: middle;\n",
              "    }\n",
              "\n",
              "    .dataframe tbody tr th {\n",
              "        vertical-align: top;\n",
              "    }\n",
              "\n",
              "    .dataframe thead th {\n",
              "        text-align: right;\n",
              "    }\n",
              "</style>\n",
              "<table border=\"1\" class=\"dataframe\">\n",
              "  <thead>\n",
              "    <tr style=\"text-align: right;\">\n",
              "      <th></th>\n",
              "      <th>Email</th>\n",
              "      <th>Address</th>\n",
              "      <th>Avatar</th>\n",
              "      <th>Average Session Length</th>\n",
              "      <th>Time on App</th>\n",
              "      <th>Time on Website</th>\n",
              "      <th>Length of Membership</th>\n",
              "      <th>Yearly Amount Spent</th>\n",
              "    </tr>\n",
              "  </thead>\n",
              "  <tbody>\n",
              "    <tr>\n",
              "      <th>0</th>\n",
              "      <td>mstephenson@fernandez.com</td>\n",
              "      <td>835 Frank Tunnel\\nWrightmouth, MI 82180-9605</td>\n",
              "      <td>Violet</td>\n",
              "      <td>34.497268</td>\n",
              "      <td>12.655651</td>\n",
              "      <td>39.577668</td>\n",
              "      <td>4.082621</td>\n",
              "      <td>587.951054</td>\n",
              "    </tr>\n",
              "    <tr>\n",
              "      <th>1</th>\n",
              "      <td>hduke@hotmail.com</td>\n",
              "      <td>4547 Archer Common\\nDiazchester, CA 06566-8576</td>\n",
              "      <td>DarkGreen</td>\n",
              "      <td>31.926272</td>\n",
              "      <td>11.109461</td>\n",
              "      <td>37.268959</td>\n",
              "      <td>2.664034</td>\n",
              "      <td>392.204933</td>\n",
              "    </tr>\n",
              "    <tr>\n",
              "      <th>2</th>\n",
              "      <td>pallen@yahoo.com</td>\n",
              "      <td>24645 Valerie Unions Suite 582\\nCobbborough, D...</td>\n",
              "      <td>Bisque</td>\n",
              "      <td>33.000915</td>\n",
              "      <td>11.330278</td>\n",
              "      <td>37.110597</td>\n",
              "      <td>4.104543</td>\n",
              "      <td>487.547505</td>\n",
              "    </tr>\n",
              "    <tr>\n",
              "      <th>3</th>\n",
              "      <td>riverarebecca@gmail.com</td>\n",
              "      <td>1414 David Throughway\\nPort Jason, OH 22070-1220</td>\n",
              "      <td>SaddleBrown</td>\n",
              "      <td>34.305557</td>\n",
              "      <td>13.717514</td>\n",
              "      <td>36.721283</td>\n",
              "      <td>3.120179</td>\n",
              "      <td>581.852344</td>\n",
              "    </tr>\n",
              "    <tr>\n",
              "      <th>4</th>\n",
              "      <td>mstephens@davidson-herman.com</td>\n",
              "      <td>14023 Rodriguez Passage\\nPort Jacobville, PR 3...</td>\n",
              "      <td>MediumAquaMarine</td>\n",
              "      <td>33.330673</td>\n",
              "      <td>12.795189</td>\n",
              "      <td>37.536653</td>\n",
              "      <td>4.446308</td>\n",
              "      <td>599.406092</td>\n",
              "    </tr>\n",
              "  </tbody>\n",
              "</table>\n",
              "</div>"
            ],
            "text/plain": [
              "                           Email  \\\n",
              "0      mstephenson@fernandez.com   \n",
              "1              hduke@hotmail.com   \n",
              "2               pallen@yahoo.com   \n",
              "3        riverarebecca@gmail.com   \n",
              "4  mstephens@davidson-herman.com   \n",
              "\n",
              "                                             Address            Avatar  \\\n",
              "0       835 Frank Tunnel\\nWrightmouth, MI 82180-9605            Violet   \n",
              "1     4547 Archer Common\\nDiazchester, CA 06566-8576         DarkGreen   \n",
              "2  24645 Valerie Unions Suite 582\\nCobbborough, D...            Bisque   \n",
              "3   1414 David Throughway\\nPort Jason, OH 22070-1220       SaddleBrown   \n",
              "4  14023 Rodriguez Passage\\nPort Jacobville, PR 3...  MediumAquaMarine   \n",
              "\n",
              "   Average Session Length  Time on App  Time on Website  Length of Membership  \\\n",
              "0               34.497268    12.655651        39.577668              4.082621   \n",
              "1               31.926272    11.109461        37.268959              2.664034   \n",
              "2               33.000915    11.330278        37.110597              4.104543   \n",
              "3               34.305557    13.717514        36.721283              3.120179   \n",
              "4               33.330673    12.795189        37.536653              4.446308   \n",
              "\n",
              "   Yearly Amount Spent  \n",
              "0           587.951054  \n",
              "1           392.204933  \n",
              "2           487.547505  \n",
              "3           581.852344  \n",
              "4           599.406092  "
            ]
          },
          "execution_count": 47,
          "metadata": {},
          "output_type": "execute_result"
        }
      ],
      "source": [
        "import pandas as pd\n",
        "\n",
        "#read csv\n",
        "df = pd.read_csv(\"ecommerce_dataset.csv\")\n",
        "df.head()"
      ]
    },
    {
      "cell_type": "code",
      "execution_count": 50,
      "metadata": {},
      "outputs": [],
      "source": [
        "cats = [\"Average Session Length\", \"Time on App\", \"Time on Website\", \"Length of Membership\"]\n",
        "\n",
        "# create segregated datasets \n",
        "X, y = df[cats], df[\"Yearly Amount Spent\"]"
      ]
    },
    {
      "cell_type": "code",
      "execution_count": 52,
      "metadata": {},
      "outputs": [
        {
          "ename": "KeyError",
          "evalue": "\"None of [Int64Index([100, 101, 102, 103, 104, 105, 106, 107, 108, 109,\\n            ...\\n            490, 491, 492, 493, 494, 495, 496, 497, 498, 499],\\n           dtype='int64', length=400)] are in the [columns]\"",
          "output_type": "error",
          "traceback": [
            "\u001b[0;31m---------------------------------------------------------------------------\u001b[0m",
            "\u001b[0;31mKeyError\u001b[0m                                  Traceback (most recent call last)",
            "\u001b[1;32m/Users/laithaustin/Documents/dsp/ECE461P/HW1/DSP23_Homework_1.ipynb Cell 29\u001b[0m in \u001b[0;36m<cell line: 11>\u001b[0;34m()\u001b[0m\n\u001b[1;32m     <a href='vscode-notebook-cell:/Users/laithaustin/Documents/dsp/ECE461P/HW1/DSP23_Homework_1.ipynb#X41sZmlsZQ%3D%3D?line=14'>15</a>\u001b[0m lasso_losses \u001b[39m=\u001b[39m []\n\u001b[1;32m     <a href='vscode-notebook-cell:/Users/laithaustin/Documents/dsp/ECE461P/HW1/DSP23_Homework_1.ipynb#X41sZmlsZQ%3D%3D?line=16'>17</a>\u001b[0m \u001b[39mfor\u001b[39;00m train_index, test_index \u001b[39min\u001b[39;00m fold\u001b[39m.\u001b[39msplit(X):\n\u001b[1;32m     <a href='vscode-notebook-cell:/Users/laithaustin/Documents/dsp/ECE461P/HW1/DSP23_Homework_1.ipynb#X41sZmlsZQ%3D%3D?line=17'>18</a>\u001b[0m     \u001b[39m#fit models and compute MSE from predictions\u001b[39;00m\n\u001b[0;32m---> <a href='vscode-notebook-cell:/Users/laithaustin/Documents/dsp/ECE461P/HW1/DSP23_Homework_1.ipynb#X41sZmlsZQ%3D%3D?line=18'>19</a>\u001b[0m     model_lasso\u001b[39m.\u001b[39mfit(X[train_index], y[train_index])\n\u001b[1;32m     <a href='vscode-notebook-cell:/Users/laithaustin/Documents/dsp/ECE461P/HW1/DSP23_Homework_1.ipynb#X41sZmlsZQ%3D%3D?line=19'>20</a>\u001b[0m     model_ridge\u001b[39m.\u001b[39mfit(X[train_index], y[train_index])\n\u001b[1;32m     <a href='vscode-notebook-cell:/Users/laithaustin/Documents/dsp/ECE461P/HW1/DSP23_Homework_1.ipynb#X41sZmlsZQ%3D%3D?line=21'>22</a>\u001b[0m     \u001b[39m# get test MSE\u001b[39;00m\n",
            "File \u001b[0;32m~/opt/anaconda3/lib/python3.9/site-packages/pandas/core/frame.py:3511\u001b[0m, in \u001b[0;36mDataFrame.__getitem__\u001b[0;34m(self, key)\u001b[0m\n\u001b[1;32m   3509\u001b[0m     \u001b[39mif\u001b[39;00m is_iterator(key):\n\u001b[1;32m   3510\u001b[0m         key \u001b[39m=\u001b[39m \u001b[39mlist\u001b[39m(key)\n\u001b[0;32m-> 3511\u001b[0m     indexer \u001b[39m=\u001b[39m \u001b[39mself\u001b[39;49m\u001b[39m.\u001b[39;49mcolumns\u001b[39m.\u001b[39;49m_get_indexer_strict(key, \u001b[39m\"\u001b[39;49m\u001b[39mcolumns\u001b[39;49m\u001b[39m\"\u001b[39;49m)[\u001b[39m1\u001b[39m]\n\u001b[1;32m   3513\u001b[0m \u001b[39m# take() does not accept boolean indexers\u001b[39;00m\n\u001b[1;32m   3514\u001b[0m \u001b[39mif\u001b[39;00m \u001b[39mgetattr\u001b[39m(indexer, \u001b[39m\"\u001b[39m\u001b[39mdtype\u001b[39m\u001b[39m\"\u001b[39m, \u001b[39mNone\u001b[39;00m) \u001b[39m==\u001b[39m \u001b[39mbool\u001b[39m:\n",
            "File \u001b[0;32m~/opt/anaconda3/lib/python3.9/site-packages/pandas/core/indexes/base.py:5782\u001b[0m, in \u001b[0;36mIndex._get_indexer_strict\u001b[0;34m(self, key, axis_name)\u001b[0m\n\u001b[1;32m   5779\u001b[0m \u001b[39melse\u001b[39;00m:\n\u001b[1;32m   5780\u001b[0m     keyarr, indexer, new_indexer \u001b[39m=\u001b[39m \u001b[39mself\u001b[39m\u001b[39m.\u001b[39m_reindex_non_unique(keyarr)\n\u001b[0;32m-> 5782\u001b[0m \u001b[39mself\u001b[39;49m\u001b[39m.\u001b[39;49m_raise_if_missing(keyarr, indexer, axis_name)\n\u001b[1;32m   5784\u001b[0m keyarr \u001b[39m=\u001b[39m \u001b[39mself\u001b[39m\u001b[39m.\u001b[39mtake(indexer)\n\u001b[1;32m   5785\u001b[0m \u001b[39mif\u001b[39;00m \u001b[39misinstance\u001b[39m(key, Index):\n\u001b[1;32m   5786\u001b[0m     \u001b[39m# GH 42790 - Preserve name from an Index\u001b[39;00m\n",
            "File \u001b[0;32m~/opt/anaconda3/lib/python3.9/site-packages/pandas/core/indexes/base.py:5842\u001b[0m, in \u001b[0;36mIndex._raise_if_missing\u001b[0;34m(self, key, indexer, axis_name)\u001b[0m\n\u001b[1;32m   5840\u001b[0m     \u001b[39mif\u001b[39;00m use_interval_msg:\n\u001b[1;32m   5841\u001b[0m         key \u001b[39m=\u001b[39m \u001b[39mlist\u001b[39m(key)\n\u001b[0;32m-> 5842\u001b[0m     \u001b[39mraise\u001b[39;00m \u001b[39mKeyError\u001b[39;00m(\u001b[39mf\u001b[39m\u001b[39m\"\u001b[39m\u001b[39mNone of [\u001b[39m\u001b[39m{\u001b[39;00mkey\u001b[39m}\u001b[39;00m\u001b[39m] are in the [\u001b[39m\u001b[39m{\u001b[39;00maxis_name\u001b[39m}\u001b[39;00m\u001b[39m]\u001b[39m\u001b[39m\"\u001b[39m)\n\u001b[1;32m   5844\u001b[0m not_found \u001b[39m=\u001b[39m \u001b[39mlist\u001b[39m(ensure_index(key)[missing_mask\u001b[39m.\u001b[39mnonzero()[\u001b[39m0\u001b[39m]]\u001b[39m.\u001b[39munique())\n\u001b[1;32m   5845\u001b[0m \u001b[39mraise\u001b[39;00m \u001b[39mKeyError\u001b[39;00m(\u001b[39mf\u001b[39m\u001b[39m\"\u001b[39m\u001b[39m{\u001b[39;00mnot_found\u001b[39m}\u001b[39;00m\u001b[39m not in index\u001b[39m\u001b[39m\"\u001b[39m)\n",
            "\u001b[0;31mKeyError\u001b[0m: \"None of [Int64Index([100, 101, 102, 103, 104, 105, 106, 107, 108, 109,\\n            ...\\n            490, 491, 492, 493, 494, 495, 496, 497, 498, 499],\\n           dtype='int64', length=400)] are in the [columns]\""
          ]
        }
      ],
      "source": [
        "from sklearn.model_selection import KFold\n",
        "\n",
        "# generate set of alpha values\n",
        "alphas = np.linspace(10**-6, 10**5, 300)\n",
        "test_MSE = []\n",
        "\n",
        "# define 5 fold cross val model\n",
        "fold = KFold(5)\n",
        "avg_loss = []\n",
        "\n",
        "for a in alphas:\n",
        "    model_lasso = Lasso(alpha=a)\n",
        "    model_ridge = Ridge(alpha=a)\n",
        "    ridge_losses = [] # collect losses and compute avg for all splits and compare \n",
        "    lasso_losses = []\n",
        "\n",
        "    for train_index, test_index in fold.split(X):\n",
        "        #fit models and compute MSE from predictions\n",
        "        model_lasso.fit(X[train_index], y[train_index])\n",
        "        model_ridge.fit(X[train_index], y[train_index])\n",
        "\n",
        "        # get test MSE\n",
        "        lasso_preds = model_lasso.predict(X[test_index])\n",
        "        ridge_preds = model_ridge.predict(X[test_index])\n",
        "\n",
        "        test_lasso_mse = mean_squared_error(y[test_index], lasso_preds)\n",
        "        test_ridge_mse = mean_squared_error(y[test_index], ridge_preds)\n",
        "\n",
        "        #accumulate all losses\n",
        "        ridge_losses.append(test_ridge_mse)\n",
        "        lasso_losses.append(test_lasso_mse)\n",
        "\n",
        "    # compute avg of all splits for each alpha value\n",
        "    ridge_avg = sum(ridge_losses)/len(ridge_losses)\n",
        "    lasso_avg = sum(lasso_losses)/len(lasso_losses)\n",
        "    avg_loss.append([lasso_avg, ridge_avg]) "
      ]
    }
  ],
  "metadata": {
    "colab": {
      "collapsed_sections": [
        "QDMxPNTM-8Ew",
        "NNBbUfy9Fxqg",
        "yHBVQzeVPs02"
      ],
      "provenance": []
    },
    "kernelspec": {
      "display_name": "Python 3.9.12 ('base')",
      "language": "python",
      "name": "python3"
    },
    "language_info": {
      "codemirror_mode": {
        "name": "ipython",
        "version": 3
      },
      "file_extension": ".py",
      "mimetype": "text/x-python",
      "name": "python",
      "nbconvert_exporter": "python",
      "pygments_lexer": "ipython3",
      "version": "3.9.12"
    },
    "vscode": {
      "interpreter": {
        "hash": "4cd688424c29bba5266b80f730f3c56405e5cb29d491ff3ed6c5c7f9d320e997"
      }
    }
  },
  "nbformat": 4,
  "nbformat_minor": 0
}
