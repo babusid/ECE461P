{
  "cells": [
    {
      "cell_type": "markdown",
      "metadata": {
        "id": "HzTi6YO2oYFp"
      },
      "source": [
        "## EE 461P: Data Science Principles  \n",
        "### Homework 4 \n",
        "### Total points: 90\n",
        "### Due:  submitted via Canvas by March 30 11:59 pm  \n",
        "\n",
        "Your homework should be written in a **Jupyter notebook**. You may work in groups of two if you wish. Only one student per team needs to submit the assignment on Canvas.  But be sure to include name and UT eID for both students.  Homework groups will be created and managed through Canvas, so please do not arbitrarily change your homework group. If you do change, let the TAs know.\n",
        "\n",
        "Also, please make sure your code runs and the graphics (and anything else) are displayed in your notebook before submitting. (%matplotlib inline)\n",
        "\n",
        "### Name(s) and EID(s):\n",
        "1. \n",
        "2. \n",
        "\n",
        "### Homework group No.: "
      ]
    },
    {
      "cell_type": "markdown",
      "metadata": {
        "id": "0ApnQfIyoe_N"
      },
      "source": [
        "## Q1. Bayes Optimal Classifier (15 points)\n",
        "Consider a binary classification problem with the following loss matrix -\n",
        "$$\n",
        "   {\\begin{array}{ccccc}\n",
        "   & & \\text{Predicted class} & \\text{           } &\\\\\n",
        "   & & C1 & C2 & Reject\\\\\n",
        "   \\text{True class} & C1 & 0 & 3 & c  \\\\\n",
        "   & C2 & 2 & 0 & c \\\\\n",
        "  \\end{array} } \n",
        "$$\n",
        "where the cost of rejection is a constant. Determine the prediction that minimizes the expected loss in different ranges of $P(C1|x)$ for the following three cases - \n",
        "1. c = 0\n",
        "2. c = 2\n",
        "3. c = 1\n",
        "\n",
        "Hint : Think and work out the bayes classifier as studied in slides aml-classification1.pdf."
      ]
    },
    {
      "cell_type": "markdown",
      "metadata": {
        "id": "AA1U8npSpL3_"
      },
      "source": [
        "## Q2. PCA (25 points)\n",
        "\n",
        "MNIST is a dataset consisting images of digits (0-9). Load the dataset from `mnist.csv`. Then standardise the datasets using StandardScaler from `sklearn.preprocessing` library."
      ]
    },
    {
      "cell_type": "code",
      "execution_count": 1,
      "metadata": {
        "id": "eCDShLsLtGzv"
      },
      "outputs": [],
      "source": [
        "import pandas as pd\n",
        "from sklearn.preprocessing import StandardScaler\n",
        "from scipy.linalg import eigh\n",
        "import numpy as np\n",
        "import seaborn as sn\n",
        "import matplotlib.pyplot as plt"
      ]
    },
    {
      "cell_type": "code",
      "execution_count": 6,
      "metadata": {
        "id": "wUkCpLj0qZ2j"
      },
      "outputs": [],
      "source": [
        "dataset = pd.read_csv('mnist.csv')\n",
        "dataset.head()\n",
        "X, y = dataset.iloc[:, 1:].values, dataset.iloc[:, 0].values"
      ]
    },
    {
      "cell_type": "code",
      "execution_count": 7,
      "metadata": {
        "id": "0CWZM42orwH2"
      },
      "outputs": [],
      "source": [
        "scaler = StandardScaler()\n",
        "scaled_dataset = scaler.fit_transform(X)"
      ]
    },
    {
      "cell_type": "markdown",
      "metadata": {
        "id": "KVvvGfIardae"
      },
      "source": [
        "2.1 Now, do PCA and get 2 principal components of the data by performing following steps (10 points):\n",
        "  \n",
        "\n",
        "*   Create a covariance matrix of the scaled data\n",
        "*   Obtain the two eigen vectors of the covariance matrix corresponding to the highest two eigen values\n",
        "*   Project the scaled data onto these eigen vectors to obtain a 2-dimesnional representation of the instances in the data\n",
        "\n",
        "\n",
        "\n"
      ]
    },
    {
      "cell_type": "code",
      "execution_count": 57,
      "metadata": {
        "id": "YT1p_xFxQ4dz"
      },
      "outputs": [],
      "source": [
        "class PCA():\n",
        "\n",
        "  def fit(self, X, k):\n",
        "    ## code for getting the eigen vectors from the data\n",
        "    covar = np.matmul(X.T, X)\n",
        "    # optain the two largest eigen values and corresponding eigen vectors\n",
        "    values, vectors = self.get_principal_components(k, covar)\n",
        "    return values, vectors\n",
        "\n",
        "  def get_principal_components(self, k, covar):\n",
        "    ## code for obtaining eigen vectors corresponding to the top-k eigen values\n",
        "    n = covar.shape[0]\n",
        "    values, vectors = np.linalg.eig(covar)\n",
        "    # get the top k vectors\n",
        "    idx = values.argsort()[::-1][:k]\n",
        "    values = values[idx]\n",
        "    vectors = vectors[:, idx]\n",
        "    return values, vectors\n",
        "\n",
        "  def transform(self, data, k, eigen_vectors):\n",
        "    ## code for getting projections on the determined principal components\n",
        "    data = data.T\n",
        "    projections = np.matmul(eigen_vectors.T, data)\n",
        "    return projections.T"
      ]
    },
    {
      "cell_type": "code",
      "execution_count": 58,
      "metadata": {
        "id": "TJhJmiQ4WhXV"
      },
      "outputs": [
        {
          "data": {
            "text/plain": [
              "array([[-5.14047772, -5.2264454 ],\n",
              "       [19.29233234,  6.03299601],\n",
              "       [-7.64450341, -1.70581328],\n",
              "       ...,\n",
              "       [ 0.49539137,  7.07627667],\n",
              "       [ 2.30724011, -4.34451279],\n",
              "       [-4.80767022,  1.55912058]])"
            ]
          },
          "execution_count": 58,
          "metadata": {},
          "output_type": "execute_result"
        }
      ],
      "source": [
        "pca = PCA()\n",
        "values, vectors = pca.fit(scaled_dataset, 2)\n",
        "projections = pca.transform(scaled_dataset, 2, vectors)\n",
        "projections"
      ]
    },
    {
      "cell_type": "markdown",
      "metadata": {
        "id": "96tpFBPHvT34"
      },
      "source": [
        "2.2 Select the points from the train dataset corresponding to class 0 and 7 and plot their 2-D projections as obtained in the previous step (5 points). \n",
        "\n",
        "\n"
      ]
    },
    {
      "cell_type": "code",
      "execution_count": 59,
      "metadata": {
        "id": "uwNWzA3NuZmw"
      },
      "outputs": [],
      "source": [
        "# attach the label for each 2-d data point\n",
        "projections = np.vstack((projections.T, y)).T\n",
        "projections = np.array(projections)\n",
        "# get only projections with label 0 and 7\n",
        "mask = (projections[:, 2] == 0) | (projections[:, 2] == 7)\n",
        "projects = projections[mask]\n",
        "projects = pd.DataFrame(data=projects, columns=(\"1st_principal\", \"2nd_principal\", \"label\"))"
      ]
    },
    {
      "cell_type": "code",
      "execution_count": 60,
      "metadata": {},
      "outputs": [
        {
          "data": {
            "text/plain": [
              "<seaborn.axisgrid.FacetGrid at 0x7fd3f2eb2460>"
            ]
          },
          "execution_count": 60,
          "metadata": {},
          "output_type": "execute_result"
        },
        {
          "data": {
            "image/png": "[encoded data removed]",
            "text/plain": [
              "<Figure size 484x432 with 1 Axes>"
            ]
          },
          "metadata": {
            "needs_background": "light"
          },
          "output_type": "display_data"
        }
      ],
      "source": [
        "# now plot\n",
        "sn.FacetGrid(projects, hue='label', height=6).map(plt.scatter, '1st_principal', '2nd_principal').add_legend()"
      ]
    },
    {
      "cell_type": "markdown",
      "metadata": {
        "id": "rxvwyyQtxEdH"
      },
      "source": [
        "2.3 Now partition the dataset into a train and test dataset by doing a 75/25 split. Learn the principal components on the train dataset (after scaling) for number of components in [2, 10, 100]. Use the learnt principal components to obtain projections for both train and test dataset (total 3 train/test pairs, 2-D, 10-D and 100-D). Train one LogisticRegression(random_state=4,max_iter=10000) model for each of the reduced dimesnional space (2-D, 10-D and 100-D). Print the classification reports on test dataset for all the models -  this will print the class-wise Precision, Recall and F1 score. More details on classification report can be found [here](https://scikit-learn.org/stable/modules/generated/sklearn.metrics.classification_report.html). (10 points)"
      ]
    },
    {
      "cell_type": "code",
      "execution_count": 63,
      "metadata": {
        "id": "WQ7rTIhTYJgy"
      },
      "outputs": [],
      "source": [
        "from sklearn.model_selection import train_test_split\n",
        "from sklearn.metrics import classification_report\n",
        "\n",
        "Y = dataset['label']\n",
        "X = dataset.drop(['label'], axis = 1)\n",
        "X_train, X_test, Y_train, Y_test = train_test_split(X, Y, test_size=0.25, shuffle=True, random_state=42)\n",
        "\n",
        "scaled_train = scaler.fit_transform(X_train)\n",
        "scaled_test = scaler.fit_transform(X_test)"
      ]
    },
    {
      "cell_type": "code",
      "execution_count": 66,
      "metadata": {
        "id": "XGMyW8o9QrFN"
      },
      "outputs": [
        {
          "name": "stdout",
          "output_type": "stream",
          "text": [
            "Shape of projections_train:  (31500, 2)\n",
            "Shape of projections_test:  (10500, 2)\n",
            "Classification report for k =  2\n",
            "              precision    recall  f1-score   support\n",
            "\n",
            "           0       0.00      0.00      0.00      1025\n",
            "           1       0.00      0.00      0.00      1146\n",
            "           2       0.03      0.06      0.04      1072\n",
            "           3       0.14      0.13      0.13      1151\n",
            "           4       0.14      0.12      0.13      1024\n",
            "           5       0.26      0.01      0.01       898\n",
            "           6       0.16      0.17      0.16      1010\n",
            "           7       0.13      0.13      0.13      1135\n",
            "           8       0.11      0.11      0.11      1005\n",
            "           9       0.07      0.03      0.04      1034\n",
            "\n",
            "    accuracy                           0.08     10500\n",
            "   macro avg       0.10      0.07      0.08     10500\n",
            "weighted avg       0.10      0.08      0.08     10500\n",
            "\n",
            "Shape of projections_train:  (31500, 10)\n",
            "Shape of projections_test:  (10500, 10)\n",
            "Classification report for k =  10\n",
            "              precision    recall  f1-score   support\n",
            "\n",
            "           0       0.00      0.01      0.01      1025\n",
            "           1       0.00      0.00      0.00      1146\n",
            "           2       0.10      0.17      0.13      1072\n",
            "           3       0.25      0.19      0.22      1151\n",
            "           4       0.10      0.05      0.07      1024\n",
            "           5       0.39      0.39      0.39       898\n",
            "           6       0.57      0.45      0.50      1010\n",
            "           7       0.01      0.01      0.01      1135\n",
            "           8       0.16      0.13      0.14      1005\n",
            "           9       0.05      0.04      0.04      1034\n",
            "\n",
            "    accuracy                           0.14     10500\n",
            "   macro avg       0.16      0.14      0.15     10500\n",
            "weighted avg       0.16      0.14      0.15     10500\n",
            "\n",
            "Shape of projections_train:  (31500, 100)\n",
            "Shape of projections_test:  (10500, 100)\n",
            "Classification report for k =  100\n",
            "              precision    recall  f1-score   support\n",
            "\n",
            "           0       0.01      0.00      0.01      1025\n",
            "           1       0.00      0.00      0.00      1146\n",
            "           2       0.11      0.17      0.13      1072\n",
            "           3       0.07      0.08      0.07      1151\n",
            "           4       0.05      0.02      0.03      1024\n",
            "           5       0.23      0.28      0.25       898\n",
            "           6       0.31      0.52      0.39      1010\n",
            "           7       0.01      0.01      0.01      1135\n",
            "           8       0.21      0.23      0.22      1005\n",
            "           9       0.01      0.01      0.01      1034\n",
            "\n",
            "    accuracy                           0.13     10500\n",
            "   macro avg       0.10      0.13      0.11     10500\n",
            "weighted avg       0.10      0.13      0.11     10500\n",
            "\n"
          ]
        }
      ],
      "source": [
        "from sklearn.linear_model import LogisticRegression\n",
        "components = [2, 10, 100]\n",
        "\n",
        "for k in components:\n",
        "    pca = PCA()\n",
        "    values, vectors = pca.fit(scaled_train, k)\n",
        "    projections_train = pca.transform(scaled_train, k, vectors).real\n",
        "    print(\"Shape of projections_train: \", projections_train.shape)\n",
        "    values, vectors = pca.fit(scaled_test, k)\n",
        "    projections_test = pca.transform(scaled_test, k, vectors).real\n",
        "    print(\"Shape of projections_test: \", projections_test.shape)\n",
        "    # Train one LogisticRegression(random_state=4,max_iter=10000) model for each of the reduced dimesnional space\n",
        "    lr = LogisticRegression(random_state=4,max_iter=10000)\n",
        "    lr.fit(projections_train, Y_train)\n",
        "    # print classification report on test data\n",
        "    print(\"Classification report for k = \", k)\n",
        "    print(classification_report(Y_test, lr.predict(projections_test)))\n",
        "    "
      ]
    },
    {
      "cell_type": "markdown",
      "metadata": {
        "id": "FLuFk7fjnqO4"
      },
      "source": [
        "## Answer:"
      ]
    },
    {
      "cell_type": "markdown",
      "metadata": {
        "id": "C8UFG3rgpJtB"
      },
      "source": [
        "# Q3 Feature Selection (25 points)"
      ]
    },
    {
      "cell_type": "markdown",
      "metadata": {
        "id": "_UBDdgsSqfeG"
      },
      "source": [
        "1. Explain in your own words what forward and backward feature selection methods are, and their pros and cons. (5 points)\n",
        "2. Use the [feature selection](https://scikit-learn.org/stable/modules/generated/sklearn.feature_selection.SequentialFeatureSelector.html) module from sklearn to select features using Decision Trees on the first 20 features of the [breast_cancer dataset](https://scikit-learn.org/stable/modules/generated/sklearn.datasets.load_breast_cancer.html). Do forward and backward feature selection and print what features are being selected. Use `n_features='auto'` and see how many features are being selected. (15 points)\n",
        "4. Briefly explain the results you have obtained. (5 points)"
      ]
    },
    {
      "cell_type": "code",
      "execution_count": null,
      "metadata": {
        "id": "M_dbJV7019lg"
      },
      "outputs": [],
      "source": [
        "from sklearn.datasets import load_breast_cancer\n",
        "from sklearn.model_selection import train_test_split\n",
        "\n",
        "data = load_breast_cancer()\n",
        "X = data.data[:, :20] # Use the first 20 features\n",
        "y = data.target\n",
        "feature_names = data.feature_names[:20]"
      ]
    },
    {
      "cell_type": "markdown",
      "metadata": {
        "id": "78ljTUZEuqGq"
      },
      "source": [
        "# Answer:"
      ]
    },
    {
      "cell_type": "markdown",
      "metadata": {
        "id": "_STakMvLEF3u"
      },
      "source": [
        "## Q4. Classification using Decision Trees and MLP (25 points)\n",
        "\n",
        "Use the example provided [here](https://scikit-learn.org/stable/modules/tree.html) to get an idea of how to use sklearn's decision tree classifier.\n",
        "\n",
        "1. Load the dataset provided in [`spambase.data`](https://drive.google.com/file/d/1Vl2HOc9UAxJuwXabUmOJc8sQv8F57QfB/view?usp=sharing) and use scikit-learn to create a train-test split as shown.\n",
        "2. Train a decision tree model on the training dataset and report the [confusion matrix](https://scikit-learn.org/stable/modules/generated/sklearn.metrics.confusion_matrix.html) and the [ROC-AUC curve](https://scikit-learn.org/stable/modules/generated/sklearn.metrics.roc_curve.html) on the test set. (10 points) \n",
        "3. Train an [MLP classifier](https://scikit-learn.org/stable/modules/generated/sklearn.neural_network.MLPClassifier.html) with the default parameters and report the confusion matrix and ROC-AUC curve on the test set. (10 points)\n",
        "4. Note your observations on the performance of the 2 models. (5 points)   \n"
      ]
    },
    {
      "cell_type": "code",
      "execution_count": null,
      "metadata": {
        "id": "PeII7xlREF3v"
      },
      "outputs": [],
      "source": [
        "import pandas as pd\n",
        "import numpy as np\n",
        "import matplotlib.pyplot as plt\n",
        "\n",
        "from sklearn.model_selection import train_test_split\n",
        "from sklearn.metrics import roc_auc_score\n",
        "from sklearn import metrics\n",
        "\n",
        "data = pd.read_csv('spambase.data')\n",
        "\n",
        "X_train, X_test, y_train, y_test = train_test_split(data.drop(columns=['label']), \n",
        "                                                    data[['label']], \n",
        "                                                    test_size=0.2, \n",
        "                                                    random_state=42)"
      ]
    },
    {
      "cell_type": "markdown",
      "metadata": {
        "id": "N_WbtN9hIhO5"
      },
      "source": [
        "# Answer:"
      ]
    },
    {
      "cell_type": "code",
      "execution_count": null,
      "metadata": {
        "id": "rC0K6xFWIiG2"
      },
      "outputs": [],
      "source": []
    }
  ],
  "metadata": {
    "colab": {
      "provenance": []
    },
    "kernelspec": {
      "display_name": "Python 3",
      "name": "python3"
    },
    "language_info": {
      "codemirror_mode": {
        "name": "ipython",
        "version": 3
      },
      "file_extension": ".py",
      "mimetype": "text/x-python",
      "name": "python",
      "nbconvert_exporter": "python",
      "pygments_lexer": "ipython3",
      "version": "3.9.12"
    }
  },
  "nbformat": 4,
  "nbformat_minor": 0
}
